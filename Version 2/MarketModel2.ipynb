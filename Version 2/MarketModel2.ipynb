{
  "nbformat": 4,
  "nbformat_minor": 0,
  "metadata": {
    "colab": {
      "name": "MarketModel2.ipynb",
      "provenance": [],
      "collapsed_sections": [
        "X9glQSmJvWP0",
        "q5UKoB6kvevK",
        "wcYC-ghG6Dgv"
      ],
      "toc_visible": true
    },
    "kernelspec": {
      "name": "python3",
      "display_name": "Python 3"
    },
    "accelerator": "GPU"
  },
  "cells": [
    {
      "cell_type": "markdown",
      "metadata": {
        "id": "QoWlDOoGxQYD"
      },
      "source": [
        "# GPU\n"
      ]
    },
    {
      "cell_type": "code",
      "metadata": {
        "id": "p514EjdPxPTh",
        "colab": {
          "base_uri": "https://localhost:8080/",
          "height": 357
        },
        "outputId": "7de41292-fd24-4662-b786-a26807a7758a"
      },
      "source": [
        "!nvidia-smi"
      ],
      "execution_count": null,
      "outputs": [
        {
          "output_type": "stream",
          "text": [
            "Sat Sep 26 00:07:07 2020       \n",
            "+-----------------------------------------------------------------------------+\n",
            "| NVIDIA-SMI 450.66       Driver Version: 418.67       CUDA Version: 10.1     |\n",
            "|-------------------------------+----------------------+----------------------+\n",
            "| GPU  Name        Persistence-M| Bus-Id        Disp.A | Volatile Uncorr. ECC |\n",
            "| Fan  Temp  Perf  Pwr:Usage/Cap|         Memory-Usage | GPU-Util  Compute M. |\n",
            "|                               |                      |               MIG M. |\n",
            "|===============================+======================+======================|\n",
            "|   0  Tesla T4            Off  | 00000000:00:04.0 Off |                    0 |\n",
            "| N/A   41C    P8     9W /  70W |      0MiB / 15079MiB |      0%      Default |\n",
            "|                               |                      |                 ERR! |\n",
            "+-------------------------------+----------------------+----------------------+\n",
            "                                                                               \n",
            "+-----------------------------------------------------------------------------+\n",
            "| Processes:                                                                  |\n",
            "|  GPU   GI   CI        PID   Type   Process name                  GPU Memory |\n",
            "|        ID   ID                                                   Usage      |\n",
            "|=============================================================================|\n",
            "|  No running processes found                                                 |\n",
            "+-----------------------------------------------------------------------------+\n"
          ],
          "name": "stdout"
        }
      ]
    },
    {
      "cell_type": "markdown",
      "metadata": {
        "id": "X9glQSmJvWP0"
      },
      "source": [
        "# Imports and Data Formatting "
      ]
    },
    {
      "cell_type": "code",
      "metadata": {
        "id": "CP4co43XpZGh"
      },
      "source": [
        "import numpy as np\n",
        "import pandas as pd\n",
        "# from sklearn.model_selection import train_test_split\n",
        "from sklearn.preprocessing import MinMaxScaler\n",
        "import matplotlib.pyplot as plt\n",
        "import tensorflow as tf"
      ],
      "execution_count": null,
      "outputs": []
    },
    {
      "cell_type": "code",
      "metadata": {
        "id": "oB_T9DjFrH_U"
      },
      "source": [
        "from tensorflow.keras.models import Sequential\n",
        "from tensorflow.keras.layers import Input, Dense, GRU, Embedding\n",
        "from tensorflow.keras.optimizers import RMSprop, Adam\n",
        "from tensorflow.keras.callbacks import EarlyStopping, ModelCheckpoint, TensorBoard, ReduceLROnPlateau\n",
        "from tensorflow.keras.backend import square, mean\n",
        "from tensorflow.python.keras.initializers import RandomUniform"
      ],
      "execution_count": null,
      "outputs": []
    },
    {
      "cell_type": "code",
      "metadata": {
        "id": "XhG7UFTyqrNm",
        "colab": {
          "base_uri": "https://localhost:8080/",
          "height": 35
        },
        "outputId": "dc716cd0-0079-44da-957a-682d09c615d0"
      },
      "source": [
        "tf.__version__"
      ],
      "execution_count": null,
      "outputs": [
        {
          "output_type": "execute_result",
          "data": {
            "application/vnd.google.colaboratory.intrinsic+json": {
              "type": "string"
            },
            "text/plain": [
              "'2.4.1'"
            ]
          },
          "metadata": {
            "tags": []
          },
          "execution_count": 7
        }
      ]
    },
    {
      "cell_type": "code",
      "metadata": {
        "id": "K4E9lEPYqzgy",
        "colab": {
          "base_uri": "https://localhost:8080/",
          "height": 35
        },
        "outputId": "a27536a6-11e4-4223-ecd9-ade04a0a540d"
      },
      "source": [
        "tf.keras.__version__"
      ],
      "execution_count": null,
      "outputs": [
        {
          "output_type": "execute_result",
          "data": {
            "application/vnd.google.colaboratory.intrinsic+json": {
              "type": "string"
            },
            "text/plain": [
              "'2.4.0'"
            ]
          },
          "metadata": {
            "tags": []
          },
          "execution_count": 8
        }
      ]
    },
    {
      "cell_type": "code",
      "metadata": {
        "id": "7lgZQapUqva0",
        "colab": {
          "base_uri": "https://localhost:8080/",
          "height": 35
        },
        "outputId": "4fe858b1-c3b3-4383-c915-31155808c60b"
      },
      "source": [
        "pd.__version__"
      ],
      "execution_count": null,
      "outputs": [
        {
          "output_type": "execute_result",
          "data": {
            "application/vnd.google.colaboratory.intrinsic+json": {
              "type": "string"
            },
            "text/plain": [
              "'1.1.5'"
            ]
          },
          "metadata": {
            "tags": []
          },
          "execution_count": 9
        }
      ]
    },
    {
      "cell_type": "code",
      "metadata": {
        "id": "Tdd9o1YVrT_j"
      },
      "source": [
        "data = pd.read_csv(\"/content/drive/My Drive/MarketModel2/21p_2010_2020.csv\")\n",
        "new_test = pd.read_csv(\"/content/drive/My Drive/MarketModel2/21p_latest_test.csv\")"
      ],
      "execution_count": null,
      "outputs": []
    },
    {
      "cell_type": "code",
      "metadata": {
        "id": "RyxtcShUreV4"
      },
      "source": [
        "data = data.drop('DATE1', axis=1)\n",
        "data = data.drop('DATE2', axis=1)\n",
        "#data = data.drop('DATE3', axis=1)"
      ],
      "execution_count": null,
      "outputs": []
    },
    {
      "cell_type": "code",
      "metadata": {
        "id": "Ao7x1O-1ozST"
      },
      "source": [
        "new_test = new_test.drop('DATE1', axis=1)\n",
        "new_test = new_test.drop('DATE2', axis=1)"
      ],
      "execution_count": null,
      "outputs": []
    },
    {
      "cell_type": "code",
      "metadata": {
        "id": "eRhEGGtsr-q7"
      },
      "source": [
        "target_label = 'SP500_PCH'#'WILL5000PRFC_PCH'#\n",
        "target_names = ['SP500_PCH']#['WILL5000PRFC_PCH']#"
      ],
      "execution_count": null,
      "outputs": []
    },
    {
      "cell_type": "code",
      "metadata": {
        "id": "SGd7mZbPr-bG"
      },
      "source": [
        "shift_steps = 1 #Number of weeks ahead of prediction"
      ],
      "execution_count": null,
      "outputs": []
    },
    {
      "cell_type": "code",
      "metadata": {
        "id": "17naduyEr3sP"
      },
      "source": [
        "data_targets = data[target_label].shift(-shift_steps)\n"
      ],
      "execution_count": null,
      "outputs": []
    },
    {
      "cell_type": "code",
      "metadata": {
        "id": "roAtvkLmll2w"
      },
      "source": [
        "#new_test_targets = new_test[target_label].shift(-shift_steps)"
      ],
      "execution_count": null,
      "outputs": []
    },
    {
      "cell_type": "code",
      "metadata": {
        "id": "3BGNqe78sh7x",
        "colab": {
          "base_uri": "https://localhost:8080/"
        },
        "outputId": "379b4e37-749d-4d14-e5b1-b018576add55"
      },
      "source": [
        "data.shape"
      ],
      "execution_count": null,
      "outputs": [
        {
          "output_type": "execute_result",
          "data": {
            "text/plain": [
              "(519, 21)"
            ]
          },
          "metadata": {
            "tags": []
          },
          "execution_count": 17
        }
      ]
    },
    {
      "cell_type": "code",
      "metadata": {
        "id": "vZR2C-j8snzF",
        "colab": {
          "base_uri": "https://localhost:8080/"
        },
        "outputId": "b7bbbb2b-8366-4941-bbad-367fc411bdae"
      },
      "source": [
        "x_data = data.iloc[:,1:].copy().values[0:-shift_steps]\n",
        "\n",
        "print(type(x_data))\n",
        "print(\"Shape:\", x_data.shape)"
      ],
      "execution_count": null,
      "outputs": [
        {
          "output_type": "stream",
          "text": [
            "<class 'numpy.ndarray'>\n",
            "Shape: (518, 20)\n"
          ],
          "name": "stdout"
        }
      ]
    },
    {
      "cell_type": "code",
      "metadata": {
        "id": "3ExuemzvlbN_",
        "colab": {
          "base_uri": "https://localhost:8080/"
        },
        "outputId": "875dad5c-bcf7-4eca-f210-d043022ef297"
      },
      "source": [
        "x_new_test = new_test.iloc[:,1:].copy().values[0:-shift_steps]\n",
        "\n",
        "print(type(x_new_test))\n",
        "print(\"Shape:\", x_new_test.shape)"
      ],
      "execution_count": null,
      "outputs": [
        {
          "output_type": "stream",
          "text": [
            "<class 'numpy.ndarray'>\n",
            "Shape: (9, 20)\n"
          ],
          "name": "stdout"
        }
      ]
    },
    {
      "cell_type": "code",
      "metadata": {
        "id": "_xotWf0uvRoR",
        "colab": {
          "base_uri": "https://localhost:8080/"
        },
        "outputId": "19575a3b-7c58-456c-a3fd-843f8d2e2e96"
      },
      "source": [
        "y_data = data_targets.values[:-shift_steps]\n",
        "\n",
        "print(type(y_data))\n",
        "print(\"Shape:\", y_data.shape)"
      ],
      "execution_count": null,
      "outputs": [
        {
          "output_type": "stream",
          "text": [
            "<class 'numpy.ndarray'>\n",
            "Shape: (518,)\n"
          ],
          "name": "stdout"
        }
      ]
    },
    {
      "cell_type": "code",
      "metadata": {
        "id": "1gbaPtSWlrQf"
      },
      "source": [
        "#y_new_test = new_test_targets.values[:-shift_steps]\n",
        "\n",
        "#print(type(y_new_test))\n",
        "#print(\"Shape:\", y_new_test.shape)"
      ],
      "execution_count": null,
      "outputs": []
    },
    {
      "cell_type": "code",
      "metadata": {
        "id": "TXhbFpkSwPEr"
      },
      "source": [
        "#Reshape y data into 2D arrays\n",
        "y_data= y_data.reshape(-1,1)\n",
        "y_data= y_data.reshape(-1,1)"
      ],
      "execution_count": null,
      "outputs": []
    },
    {
      "cell_type": "code",
      "metadata": {
        "id": "QDucA-Emm6YL"
      },
      "source": [
        "#Reshape y test into 2D arrays\n",
        "#y_new_test= y_new_test.reshape(-1,1)\n",
        "#y_new_test= y_new_test.reshape(-1,1)"
      ],
      "execution_count": null,
      "outputs": []
    },
    {
      "cell_type": "code",
      "metadata": {
        "id": "tC4KSzkkwBYk",
        "colab": {
          "base_uri": "https://localhost:8080/"
        },
        "outputId": "e54e27ba-f4d2-4711-f71c-5805d6dbaeca"
      },
      "source": [
        "num_x_signals = x_data.shape[1]\n",
        "num_x_signals"
      ],
      "execution_count": null,
      "outputs": [
        {
          "output_type": "execute_result",
          "data": {
            "text/plain": [
              "20"
            ]
          },
          "metadata": {
            "tags": []
          },
          "execution_count": 24
        }
      ]
    },
    {
      "cell_type": "code",
      "metadata": {
        "id": "aL6R9ZnVwDUw",
        "colab": {
          "base_uri": "https://localhost:8080/"
        },
        "outputId": "6b0f981b-4fce-4dcb-f216-2ad7a1709ebd"
      },
      "source": [
        "num_y_signals = y_data.shape[1]\n",
        "num_y_signals"
      ],
      "execution_count": null,
      "outputs": [
        {
          "output_type": "execute_result",
          "data": {
            "text/plain": [
              "1"
            ]
          },
          "metadata": {
            "tags": []
          },
          "execution_count": 25
        }
      ]
    },
    {
      "cell_type": "code",
      "metadata": {
        "id": "vhdPKvSkvd0o",
        "colab": {
          "base_uri": "https://localhost:8080/"
        },
        "outputId": "a2a1bee3-e821-4761-e3ed-9cd1e401d010"
      },
      "source": [
        "n_data = len(x_data)\n",
        "n_data"
      ],
      "execution_count": null,
      "outputs": [
        {
          "output_type": "execute_result",
          "data": {
            "text/plain": [
              "518"
            ]
          },
          "metadata": {
            "tags": []
          },
          "execution_count": 26
        }
      ]
    },
    {
      "cell_type": "code",
      "metadata": {
        "id": "XxpjJ2YKviie"
      },
      "source": [
        "train_split = 0.8"
      ],
      "execution_count": null,
      "outputs": []
    },
    {
      "cell_type": "code",
      "metadata": {
        "id": "SGVjjnQdvpPq",
        "colab": {
          "base_uri": "https://localhost:8080/"
        },
        "outputId": "d9adddb0-2dc4-48f4-cec7-e034446c9414"
      },
      "source": [
        "n_train = int(n_data*train_split)\n",
        "n_train"
      ],
      "execution_count": null,
      "outputs": [
        {
          "output_type": "execute_result",
          "data": {
            "text/plain": [
              "414"
            ]
          },
          "metadata": {
            "tags": []
          },
          "execution_count": 28
        }
      ]
    },
    {
      "cell_type": "code",
      "metadata": {
        "id": "q3n3TEUfwNdx",
        "colab": {
          "base_uri": "https://localhost:8080/"
        },
        "outputId": "697485b0-f1c4-4d3f-fd87-5bab2b75d130"
      },
      "source": [
        "n_test = n_data - n_train\n",
        "n_test"
      ],
      "execution_count": null,
      "outputs": [
        {
          "output_type": "execute_result",
          "data": {
            "text/plain": [
              "104"
            ]
          },
          "metadata": {
            "tags": []
          },
          "execution_count": 29
        }
      ]
    },
    {
      "cell_type": "code",
      "metadata": {
        "id": "GK85lacQwOSt",
        "colab": {
          "base_uri": "https://localhost:8080/"
        },
        "outputId": "ec353026-5393-415d-e601-cb530f571f4d"
      },
      "source": [
        "x_train = x_data[0:n_train]\n",
        "x_test = x_data[n_train:]\n",
        "len(x_train) + len(x_test)\n"
      ],
      "execution_count": null,
      "outputs": [
        {
          "output_type": "execute_result",
          "data": {
            "text/plain": [
              "518"
            ]
          },
          "metadata": {
            "tags": []
          },
          "execution_count": 30
        }
      ]
    },
    {
      "cell_type": "code",
      "metadata": {
        "id": "mVs1v3sowyIU",
        "colab": {
          "base_uri": "https://localhost:8080/"
        },
        "outputId": "6908193b-94b8-406d-e265-d591eec64f75"
      },
      "source": [
        "y_train = y_data[0:n_train]\n",
        "y_test = y_data[n_train:]\n",
        "len(y_train) + len(y_test)"
      ],
      "execution_count": null,
      "outputs": [
        {
          "output_type": "execute_result",
          "data": {
            "text/plain": [
              "518"
            ]
          },
          "metadata": {
            "tags": []
          },
          "execution_count": 31
        }
      ]
    },
    {
      "cell_type": "code",
      "metadata": {
        "id": "XNdczlHQw64K",
        "colab": {
          "base_uri": "https://localhost:8080/"
        },
        "outputId": "f25eb68a-ee12-46cf-fe2d-75e60f1c8461"
      },
      "source": [
        "#Min and max of the data set\n",
        "print(\"Min:\", np.min(y_train))\n",
        "print(\"Max:\", np.max(y_train))"
      ],
      "execution_count": null,
      "outputs": [
        {
          "output_type": "stream",
          "text": [
            "Min: -9.10314\n",
            "Max: 4.57817\n"
          ],
          "name": "stdout"
        }
      ]
    },
    {
      "cell_type": "code",
      "metadata": {
        "id": "HDOv-3Fds2WY"
      },
      "source": [
        "x_scaler = MinMaxScaler()\n",
        "x_train_scaled = x_scaler.fit_transform(x_train)\n",
        "x_test_scaled = x_scaler.transform(x_test)"
      ],
      "execution_count": null,
      "outputs": []
    },
    {
      "cell_type": "code",
      "metadata": {
        "id": "O8chgNueooDh"
      },
      "source": [
        "#x_new_test_scaled = x_scaler.transform(x_new_test)"
      ],
      "execution_count": null,
      "outputs": []
    },
    {
      "cell_type": "code",
      "metadata": {
        "id": "sSggbeECtVIo"
      },
      "source": [
        "y_scaler = MinMaxScaler()\n",
        "y_train_scaled = y_scaler.fit_transform(y_train)\n",
        "y_test_scaled = y_scaler.transform(y_test)"
      ],
      "execution_count": null,
      "outputs": []
    },
    {
      "cell_type": "code",
      "metadata": {
        "id": "RSM1Gdjzot9r"
      },
      "source": [
        "#y_new_test_scaled = y_scaler.transform(y_new_test)"
      ],
      "execution_count": null,
      "outputs": []
    },
    {
      "cell_type": "code",
      "metadata": {
        "id": "TX1ykA6NuvST",
        "colab": {
          "base_uri": "https://localhost:8080/"
        },
        "outputId": "61e72d7d-185a-482a-f85b-573fa7dff0b5"
      },
      "source": [
        "print(x_train_scaled.shape)\n",
        "print(y_train_scaled.shape)"
      ],
      "execution_count": null,
      "outputs": [
        {
          "output_type": "stream",
          "text": [
            "(414, 20)\n",
            "(414, 1)\n"
          ],
          "name": "stdout"
        }
      ]
    },
    {
      "cell_type": "code",
      "metadata": {
        "id": "d0H0PoK601HP"
      },
      "source": [
        "x_train_scaled = np.expand_dims(x_train_scaled, axis=0)\n",
        "y_train_scaled = np.expand_dims(y_train_scaled, axis=0)"
      ],
      "execution_count": null,
      "outputs": []
    },
    {
      "cell_type": "code",
      "metadata": {
        "id": "pe6yXM8Z6zSb"
      },
      "source": [
        "validation_data = (np.expand_dims(x_test_scaled, axis=0),\n",
        "                   np.expand_dims(y_test_scaled, axis=0))"
      ],
      "execution_count": null,
      "outputs": []
    },
    {
      "cell_type": "markdown",
      "metadata": {
        "id": "q5UKoB6kvevK"
      },
      "source": [
        "# Creating the Model\n",
        "\n"
      ]
    },
    {
      "cell_type": "code",
      "metadata": {
        "id": "CX7mm-IHuwT5"
      },
      "source": [
        "model = Sequential()\n",
        "\n",
        "model.add(GRU(units=512,\n",
        "              return_sequences=True,\n",
        "              input_shape=(None, num_x_signals)))\n",
        "\n",
        "\n"
      ],
      "execution_count": null,
      "outputs": []
    },
    {
      "cell_type": "code",
      "metadata": {
        "id": "mZFCg0tpw73p",
        "colab": {
          "base_uri": "https://localhost:8080/",
          "height": 35
        },
        "outputId": "7dd9dc68-48fc-41c1-dbd0-8b8a8f7ac04f"
      },
      "source": [
        "init = RandomUniform(minval=-0.05, maxval=0.05)\n",
        "\n",
        "model.add(Dense(num_y_signals,\n",
        "                activation='linear',\n",
        "                kernel_initializer=init))\n",
        "\n",
        "\"\"\"model.add(Dense(num_y_signals, activation='sigmoid'))\"\"\"\n",
        "\n"
      ],
      "execution_count": null,
      "outputs": [
        {
          "output_type": "execute_result",
          "data": {
            "application/vnd.google.colaboratory.intrinsic+json": {
              "type": "string"
            },
            "text/plain": [
              "\"model.add(Dense(num_y_signals, activation='sigmoid'))\""
            ]
          },
          "metadata": {
            "tags": []
          },
          "execution_count": 180
        }
      ]
    },
    {
      "cell_type": "code",
      "metadata": {
        "id": "fbZQ76eU2o_c"
      },
      "source": [
        "warmup_steps = 10"
      ],
      "execution_count": null,
      "outputs": []
    },
    {
      "cell_type": "code",
      "metadata": {
        "id": "dXlLrnHw3Nw3"
      },
      "source": [
        "def loss_mse(y_target, y_pred):\n",
        "\n",
        "    y_target_slice = y_target[:, warmup_steps:, :]\n",
        "    y_pred_slice = y_pred[:, warmup_steps:, :]\n",
        "\n",
        "    mse = mean(square(y_target_slice - y_pred_slice))\n",
        "    \n",
        "    return mse"
      ],
      "execution_count": null,
      "outputs": []
    },
    {
      "cell_type": "code",
      "metadata": {
        "id": "BVr56iJH3hxd",
        "colab": {
          "base_uri": "https://localhost:8080/"
        },
        "outputId": "3e3d7c61-ad7a-4e36-fd5c-44e29c1eb675"
      },
      "source": [
        "optimizer = RMSprop(lr=1e-3)\n",
        "\n",
        "model.compile(loss='mse', optimizer='adam', metrics=['mse'])\n",
        "\n",
        "model.summary()"
      ],
      "execution_count": null,
      "outputs": [
        {
          "output_type": "stream",
          "text": [
            "Model: \"sequential_10\"\n",
            "_________________________________________________________________\n",
            "Layer (type)                 Output Shape              Param #   \n",
            "=================================================================\n",
            "gru_23 (GRU)                 (None, None, 512)         820224    \n",
            "_________________________________________________________________\n",
            "dense_9 (Dense)              (None, None, 1)           513       \n",
            "=================================================================\n",
            "Total params: 820,737\n",
            "Trainable params: 820,737\n",
            "Non-trainable params: 0\n",
            "_________________________________________________________________\n"
          ],
          "name": "stdout"
        }
      ]
    },
    {
      "cell_type": "code",
      "metadata": {
        "id": "6uAKpaX248s3"
      },
      "source": [
        "# To save checkpoints during training\n",
        "path_checkpoint = 'checkpoint.keras'\n",
        "callback_checkpoint = ModelCheckpoint(filepath=path_checkpoint,\n",
        "                                      monitor='val_loss',\n",
        "                                      verbose=1,\n",
        "                                      save_weights_only=True,\n",
        "                                      save_best_only=True)"
      ],
      "execution_count": null,
      "outputs": []
    },
    {
      "cell_type": "code",
      "metadata": {
        "id": "vZVN1Hz65gBw"
      },
      "source": [
        "# Stops training when performance worsens\n",
        "callback_early_stopping = EarlyStopping(monitor='val_loss',\n",
        "                                        patience=5, verbose=1)"
      ],
      "execution_count": null,
      "outputs": []
    },
    {
      "cell_type": "code",
      "metadata": {
        "id": "nxbhj7e05l6Y"
      },
      "source": [
        "# For writing the TensorBoard\n",
        "callback_tensorboard = TensorBoard(log_dir='./23_logs/',\n",
        "                                   histogram_freq=0,\n",
        "                                   write_graph=False)"
      ],
      "execution_count": null,
      "outputs": []
    },
    {
      "cell_type": "code",
      "metadata": {
        "id": "XFhTNQu95uvP"
      },
      "source": [
        "# Adusts learning rate as needed\n",
        "callback_reduce_lr = ReduceLROnPlateau(monitor='val_loss',\n",
        "                                       factor=0.1,\n",
        "                                       min_lr=1e-4,\n",
        "                                       patience=0,\n",
        "                                       verbose=1)\n",
        "\n",
        "callbacks = [callback_early_stopping,\n",
        "             callback_checkpoint,\n",
        "             callback_tensorboard,\n",
        "             callback_reduce_lr]\\"
      ],
      "execution_count": null,
      "outputs": []
    },
    {
      "cell_type": "markdown",
      "metadata": {
        "id": "wcYC-ghG6Dgv"
      },
      "source": [
        "# Training"
      ]
    },
    {
      "cell_type": "code",
      "metadata": {
        "id": "Q84y8udS6FR5",
        "colab": {
          "base_uri": "https://localhost:8080/"
        },
        "outputId": "370c353d-ba5a-4bc8-b99b-35351eea6bf1"
      },
      "source": [
        "%%time\n",
        "history = model.fit(x_train_scaled,\n",
        "          y_train_scaled,\n",
        "          epochs=100,\n",
        "          validation_data=validation_data,\n",
        "          callbacks=callbacks)"
      ],
      "execution_count": null,
      "outputs": [
        {
          "output_type": "stream",
          "text": [
            "Epoch 1/100\n",
            "1/1 [==============================] - 2s 2s/step - loss: 0.4648 - mse: 0.4648 - val_loss: 0.1413 - val_mse: 0.1413\n",
            "\n",
            "Epoch 00001: val_loss improved from inf to 0.14127, saving model to checkpoint.keras\n",
            "Epoch 2/100\n",
            "1/1 [==============================] - 1s 655ms/step - loss: 0.1314 - mse: 0.1314 - val_loss: 0.0420 - val_mse: 0.0420\n",
            "\n",
            "Epoch 00002: val_loss improved from 0.14127 to 0.04198, saving model to checkpoint.keras\n",
            "Epoch 3/100\n",
            "1/1 [==============================] - 0s 73ms/step - loss: 0.0140 - mse: 0.0140 - val_loss: 0.1754 - val_mse: 0.1754\n",
            "\n",
            "Epoch 00003: val_loss did not improve from 0.04198\n",
            "\n",
            "Epoch 00003: ReduceLROnPlateau reducing learning rate to 0.00010000000474974513.\n",
            "Epoch 4/100\n",
            "1/1 [==============================] - 0s 73ms/step - loss: 0.1136 - mse: 0.1136 - val_loss: 0.1706 - val_mse: 0.1706\n",
            "\n",
            "Epoch 00004: val_loss did not improve from 0.04198\n",
            "\n",
            "Epoch 00004: ReduceLROnPlateau reducing learning rate to 0.0001.\n",
            "Epoch 5/100\n",
            "1/1 [==============================] - 0s 77ms/step - loss: 0.1094 - mse: 0.1094 - val_loss: 0.1560 - val_mse: 0.1560\n",
            "\n",
            "Epoch 00005: val_loss did not improve from 0.04198\n",
            "Epoch 6/100\n",
            "1/1 [==============================] - 0s 77ms/step - loss: 0.0970 - mse: 0.0970 - val_loss: 0.1379 - val_mse: 0.1379\n",
            "\n",
            "Epoch 00006: val_loss did not improve from 0.04198\n",
            "Epoch 7/100\n",
            "1/1 [==============================] - 0s 69ms/step - loss: 0.0820 - mse: 0.0820 - val_loss: 0.1194 - val_mse: 0.1194\n",
            "\n",
            "Epoch 00007: val_loss did not improve from 0.04198\n",
            "Epoch 00007: early stopping\n",
            "CPU times: user 2.73 s, sys: 80.5 ms, total: 2.81 s\n",
            "Wall time: 2.88 s\n"
          ],
          "name": "stdout"
        }
      ]
    },
    {
      "cell_type": "code",
      "metadata": {
        "id": "6RsdO6hc9V9K",
        "colab": {
          "base_uri": "https://localhost:8080/"
        },
        "outputId": "e29d922f-2605-4867-91c4-6bf70bda98a1"
      },
      "source": [
        "\n",
        "result = model.evaluate(x=np.expand_dims(x_test_scaled, axis=0),\n",
        "                        y=np.expand_dims(y_test_scaled, axis=0))"
      ],
      "execution_count": null,
      "outputs": [
        {
          "output_type": "stream",
          "text": [
            "1/1 [==============================] - 0s 16ms/step - loss: 0.1194 - mse: 0.1194\n"
          ],
          "name": "stdout"
        }
      ]
    },
    {
      "cell_type": "markdown",
      "metadata": {
        "id": "B5aUPxbn2wE_"
      },
      "source": [
        ""
      ]
    },
    {
      "cell_type": "markdown",
      "metadata": {
        "id": "D4RfA18pxZYg"
      },
      "source": [
        "# Predictions"
      ]
    },
    {
      "cell_type": "code",
      "metadata": {
        "id": "fM-VCsyJzMO8"
      },
      "source": [
        "try:\n",
        "    model.load_weights(path_checkpoint)\n",
        "except Exception as error:\n",
        "    print(\"Error trying to load checkpoint.\")\n",
        "    print(error)"
      ],
      "execution_count": null,
      "outputs": []
    },
    {
      "cell_type": "code",
      "metadata": {
        "id": "SzuucwZjwIlt",
        "colab": {
          "base_uri": "https://localhost:8080/",
          "height": 333
        },
        "outputId": "6cd36e30-5849-4dbe-80b4-5dacd3b425ea"
      },
      "source": [
        "print(history.history)\n",
        "print(history.history.keys())\n",
        "# \"Loss\n",
        "plt.plot(history.history['loss'])\n",
        "plt.plot(history.history['val_loss'])\n",
        "plt.ylabel('loss')\n",
        "plt.xlabel('epoch')\n",
        "plt.legend(['train', 'validation'], loc='upper left')\n",
        "plt.show()"
      ],
      "execution_count": null,
      "outputs": [
        {
          "output_type": "stream",
          "text": [
            "{'loss': [0.4648419916629791, 0.1314409375190735, 0.013983001932501793, 0.11360176652669907, 0.10935747623443604, 0.0970018208026886, 0.08197436481714249], 'mse': [0.4648419916629791, 0.1314409375190735, 0.013983001932501793, 0.11360176652669907, 0.10935747623443604, 0.0970018208026886, 0.08197436481714249], 'val_loss': [0.14126980304718018, 0.04197541996836662, 0.1753506362438202, 0.17061764001846313, 0.15599700808525085, 0.1378583312034607, 0.11941376328468323], 'val_mse': [0.14126980304718018, 0.04197541996836662, 0.1753506362438202, 0.17061764001846313, 0.15599700808525085, 0.1378583312034607, 0.11941376328468323], 'lr': [0.001, 0.001, 0.001, 0.000100000005, 1e-04, 1e-04, 1e-04]}\n",
            "dict_keys(['loss', 'mse', 'val_loss', 'val_mse', 'lr'])\n"
          ],
          "name": "stdout"
        },
        {
          "output_type": "display_data",
          "data": {
            "image/png": "[encoded data removed]",
            "text/plain": [
              "<Figure size 432x288 with 1 Axes>"
            ]
          },
          "metadata": {
            "tags": [],
            "needs_background": "light"
          }
        }
      ]
    },
    {
      "cell_type": "code",
      "metadata": {
        "id": "PC6KiqGsXR1n",
        "colab": {
          "base_uri": "https://localhost:8080/",
          "height": 333
        },
        "outputId": "cd37aa19-ad98-4510-8a4d-2418ac51a9ba"
      },
      "source": [
        "print(history.history)\n",
        "print(history.history.keys())\n",
        "# \"Loss\n",
        "\n",
        "\n",
        "plt.plot(history.history['val_mse'])\n",
        "plt.plot(history.history['mse'])\n",
        "plt.ylabel('mse')\n",
        "plt.xlabel('epoch')\n",
        "plt.legend(['train', 'validation'], loc='upper left')\n",
        "plt.show()"
      ],
      "execution_count": null,
      "outputs": [
        {
          "output_type": "stream",
          "text": [
            "{'loss': [0.4648419916629791, 0.1314409375190735, 0.013983001932501793, 0.11360176652669907, 0.10935747623443604, 0.0970018208026886, 0.08197436481714249], 'mse': [0.4648419916629791, 0.1314409375190735, 0.013983001932501793, 0.11360176652669907, 0.10935747623443604, 0.0970018208026886, 0.08197436481714249], 'val_loss': [0.14126980304718018, 0.04197541996836662, 0.1753506362438202, 0.17061764001846313, 0.15599700808525085, 0.1378583312034607, 0.11941376328468323], 'val_mse': [0.14126980304718018, 0.04197541996836662, 0.1753506362438202, 0.17061764001846313, 0.15599700808525085, 0.1378583312034607, 0.11941376328468323], 'lr': [0.001, 0.001, 0.001, 0.000100000005, 1e-04, 1e-04, 1e-04]}\n",
            "dict_keys(['loss', 'mse', 'val_loss', 'val_mse', 'lr'])\n"
          ],
          "name": "stdout"
        },
        {
          "output_type": "display_data",
          "data": {
            "image/png": "[encoded data removed]",
            "text/plain": [
              "<Figure size 432x288 with 1 Axes>"
            ]
          },
          "metadata": {
            "tags": [],
            "needs_background": "light"
          }
        }
      ]
    },
    {
      "cell_type": "code",
      "metadata": {
        "id": "Hv3VqQQhxfnj"
      },
      "source": [
        "def plot_comparison(start_idx, length=100, train=True, latest=False):\n",
        "    \"\"\"\n",
        "    Plot the predicted and true output-signals.\n",
        "    \n",
        "    :param start_idx: Start-index for the time-series.\n",
        "    :param length: Sequence-length to process and plot.\n",
        "    :param train: Boolean whether to use training- or test-set.\n",
        "    \"\"\"\n",
        "    \n",
        "    if train:\n",
        "        # Use training-data.\n",
        "        x = x_train_scaled[0]\n",
        "        y_true = y_train\n",
        "   # if latest and not train:\n",
        "        # Use new-test-data.\n",
        "        #x = np.expand_dims(x_new_test_scaled, axis=0)[0]\n",
        "        #y_true = y_new_test\n",
        "    if not train and not latest:\n",
        "        # Use test-data.\n",
        "        x = np.expand_dims(x_test_scaled, axis=0)[0]\n",
        "        y_true = y_test\n",
        "    \n",
        "    # End-index for the sequences.\n",
        "    end_idx = start_idx + length\n",
        "    \n",
        "    # Select the sequences from the given start-index and\n",
        "    # of the given length.\n",
        "    x = x[start_idx:end_idx]\n",
        "    y_true = y_true[start_idx:end_idx]\n",
        "    \n",
        "    # Input-signals for the model.\n",
        "    x = np.expand_dims(x, axis=0)\n",
        "\n",
        "    # Use the model to predict the output-signals.\n",
        "    y_pred = model.predict(x)\n",
        "    \n",
        "    # The output of the model is between 0 and 1.\n",
        "    # Do an inverse map to get it back to the scale\n",
        "    # of the original data-set.\n",
        "    y_pred_rescaled = y_scaler.inverse_transform(y_pred[0])\n",
        "    \n",
        "    # For each output-signal.\n",
        "    for signal in range(len(target_names)):\n",
        "        # Get the output-signal predicted by the model.\n",
        "        signal_pred = y_pred_rescaled[:, signal]\n",
        "        \n",
        "        # Get the true output-signal from the data-set.\n",
        "        signal_true = y_true[:, signal]\n",
        "\n",
        "        # Make the plotting-canvas bigger.\n",
        "        plt.figure(figsize=(15,5))\n",
        "        \n",
        "        # Plot and compare the two signals.\n",
        "        plt.plot(signal_true, label='true')\n",
        "        plt.plot(signal_pred, label='pred')\n",
        "        \n",
        "        # Plot grey box for warmup-period.\n",
        "        p = plt.axvspan(0, warmup_steps, facecolor='black', alpha=0.15)\n",
        "        \n",
        "        # Plot labels etc.\n",
        "        plt.ylabel(target_names[signal])\n",
        "        plt.legend()\n",
        "        plt.show()"
      ],
      "execution_count": null,
      "outputs": []
    },
    {
      "cell_type": "code",
      "metadata": {
        "id": "1o5cQhrzyUca",
        "colab": {
          "base_uri": "https://localhost:8080/",
          "height": 357
        },
        "outputId": "f281d7f1-7d19-4df0-e150-20549f874124"
      },
      "source": [
        "plot_comparison(start_idx=0, length=52*2, train=False, latest=False)"
      ],
      "execution_count": null,
      "outputs": [
        {
          "output_type": "stream",
          "text": [
            "WARNING:tensorflow:9 out of the last 9 calls to <function Model.make_predict_function.<locals>.predict_function at 0x7f8871ecf170> triggered tf.function retracing. Tracing is expensive and the excessive number of tracings could be due to (1) creating @tf.function repeatedly in a loop, (2) passing tensors with different shapes, (3) passing Python objects instead of tensors. For (1), please define your @tf.function outside of the loop. For (2), @tf.function has experimental_relax_shapes=True option that relaxes argument shapes that can avoid unnecessary retracing. For (3), please refer to https://www.tensorflow.org/guide/function#controlling_retracing and https://www.tensorflow.org/api_docs/python/tf/function for  more details.\n"
          ],
          "name": "stdout"
        },
        {
          "output_type": "display_data",
          "data": {
            "image/png": "[encoded data removed]",
            "text/plain": [
              "<Figure size 1080x360 with 1 Axes>"
            ]
          },
          "metadata": {
            "tags": [],
            "needs_background": "light"
          }
        }
      ]
    }
  ]
}